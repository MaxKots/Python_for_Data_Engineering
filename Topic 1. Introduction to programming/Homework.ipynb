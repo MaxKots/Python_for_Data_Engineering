{
 "cells": [
  {
   "cell_type": "markdown",
   "id": "bdeb1db0-2f7f-49e4-a240-da7eb160bd20",
   "metadata": {},
   "source": [
    "**Задание №1**<br>\n",
    "Дана переменная, в которой хранится четырёхзначное число (год). Необходимо написать\n",
    "программу, которая выведет, является этот год високосным или обычным."
   ]
  },
  {
   "cell_type": "code",
   "execution_count": 1,
   "id": "772304d1-a421-4699-a777-8054fdbaba6e",
   "metadata": {},
   "outputs": [
    {
     "name": "stdin",
     "output_type": "stream",
     "text": [
      " 2020\n"
     ]
    },
    {
     "name": "stdout",
     "output_type": "stream",
     "text": [
      "year = 2020\n",
      "Результат:\n",
      "Високосный год\n"
     ]
    }
   ],
   "source": [
    "year = int(input()); print(f\"year = {year}\\nРезультат:\\nВисокосный год\" if (year % 4 == 0 and year % 100 != 0) or (year % 400 == 0) else f\"year = {year}\\nРезультат:\\nОбычный год\")"
   ]
  },
  {
   "cell_type": "markdown",
   "id": "c17f845b-02b6-402f-912b-259565be6318",
   "metadata": {},
   "source": [
    "**Задание №2**<br>\n",
    "Дана переменная, в которой хранится шестизначное число (номер проездного билета).\n",
    "Напишите программу, которая будет определять, является ли этот билет счастливым.\n",
    "Билет считается счастливым, если сумма первых трёх цифр совпадает с суммой\n",
    "последних трёх цифр номера."
   ]
  },
  {
   "cell_type": "code",
   "execution_count": 2,
   "id": "975ab08d-0f3a-4db6-8db4-45e179813a18",
   "metadata": {},
   "outputs": [
    {
     "name": "stdin",
     "output_type": "stream",
     "text": [
      " 123321\n"
     ]
    },
    {
     "name": "stdout",
     "output_type": "stream",
     "text": [
      "number = 123321\n",
      "Результат:\n",
      "Счастливый билет\n"
     ]
    }
   ],
   "source": [
    "n = int(input()); print(f\"number = {n}\\nРезультат:\\nСчастливый билет\" if (sum(int(d) for d in str(n)[:3]) == sum(int(d) for d in str(n)[3:])) else f\"number = {n}\\nРезультат:\\nНесчастливый билет\")"
   ]
  }
 ],
 "metadata": {
  "kernelspec": {
   "display_name": "Python 3 (ipykernel)",
   "language": "python",
   "name": "python3"
  },
  "language_info": {
   "codemirror_mode": {
    "name": "ipython",
    "version": 3
   },
   "file_extension": ".py",
   "mimetype": "text/x-python",
   "name": "python",
   "nbconvert_exporter": "python",
   "pygments_lexer": "ipython3",
   "version": "3.9.6"
  }
 },
 "nbformat": 4,
 "nbformat_minor": 5
}
