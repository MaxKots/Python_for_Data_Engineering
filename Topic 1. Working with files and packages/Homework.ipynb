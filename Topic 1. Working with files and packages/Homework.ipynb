{
 "cells": [
  {
   "cell_type": "markdown",
   "id": "1c7c0d16-f68f-40f0-8c4f-2b5037de15e6",
   "metadata": {},
   "source": [
    "#### **Задание 1**"
   ]
  },
  {
   "cell_type": "code",
   "execution_count": 50,
   "id": "b7070d85-680a-4047-9f5d-95caf46d0a5b",
   "metadata": {},
   "outputs": [],
   "source": [
    "import os\n",
    "import json\n",
    "# print(os.getcwd())\n",
    "path = 'G:/JupyterLab-Portable-3.1.0-3.9/notebooks/HSE/Python for Data Engineering/Тема 1. Работа с файлами и пакетами/'"
   ]
  },
  {
   "cell_type": "code",
   "execution_count": 31,
   "id": "46f4f743-42ff-4259-8ad6-d01578ae6106",
   "metadata": {},
   "outputs": [],
   "source": [
    "purchases = dict()\n",
    "with open(f'{path}purchase_log.txt', 'r') as f:\n",
    "    # Пропускаем первую строку\n",
    "    next(f)\n",
    "    for row in f:\n",
    "        # Загружаем строку как json-объект\n",
    "        res = json.loads(row.strip())\n",
    "        # Добавляем элемент в словарь: ключ - ID товара, значение - категория\n",
    "        purchases[res['user_id']] = '‘' + str(res['category']) + '‘'"
   ]
  },
  {
   "cell_type": "code",
   "execution_count": 32,
   "id": "981eb87c-2685-4b9c-a230-e4adb88fa716",
   "metadata": {},
   "outputs": [
    {
     "name": "stdout",
     "output_type": "stream",
     "text": [
      "1840e0b9d4 ‘Продукты‘\n",
      "4e4f90fcfb ‘Электроника‘\n"
     ]
    }
   ],
   "source": [
    "# Выводим первые два элемента словаря\n",
    "for k, v in list(purchases.items())[:2]:\n",
    "    print(k, v)   "
   ]
  },
  {
   "cell_type": "markdown",
   "id": "d3370b48-84d9-4067-a56f-afe76186fa8a",
   "metadata": {
    "tags": []
   },
   "source": [
    "#### **Задание 2**"
   ]
  },
  {
   "cell_type": "code",
   "execution_count": 142,
   "id": "d5bb7f3c-f1b1-4ce5-b49c-a870a10189a1",
   "metadata": {},
   "outputs": [],
   "source": [
    "purchases = dict()\n",
    "with open(f'{path}purchase_log.txt', 'r') as f:\n",
    "    # Пропускаем первую строку\n",
    "#     next(f)\n",
    "    for row in f:\n",
    "        # Загружаем строку как json-объект\n",
    "        res = json.loads(row.strip())\n",
    "        # Добавляем элемент в словарь: ключ - ID товара, значение - категория\n",
    "        purchases[res['user_id']] = res['category']"
   ]
  },
  {
   "cell_type": "code",
   "execution_count": 143,
   "id": "04ef2eb4-7647-4342-ac36-9ac89da03122",
   "metadata": {
    "tags": []
   },
   "outputs": [],
   "source": [
    "import csv\n",
    "with open(f'{path}visit_log.csv', mode='r') as visit:\n",
    "    with open(f'{path}funnel.csv', mode='w', newline='') as funnel:\n",
    "        writer = csv.writer(funnel)\n",
    "        for row in visit:\n",
    "            row = row.strip().split(',')\n",
    "    #         print(row.s plit(',')[0])\n",
    "            if row[0] in purchases:\n",
    "                row.append(purchases[row[0]])\n",
    "                writer.writerow(row)\n",
    "#                 print(','.join(row))\n",
    "#                 funnel.write(','.join(row))\n",
    "#                 print(row)\n",
    "#                 break"
   ]
  },
  {
   "cell_type": "code",
   "execution_count": 145,
   "id": "6e8e85e0-a942-4bb7-a77c-42f273db6c73",
   "metadata": {},
   "outputs": [
    {
     "name": "stdout",
     "output_type": "stream",
     "text": [
      "user_id,source,category\n",
      "\n",
      "1840e0b9d4,other,Продукты\n",
      "\n",
      "4e4f90fcfb,context,Электроника\n",
      "\n"
     ]
    }
   ],
   "source": [
    "i = 0\n",
    "with open(f'{path}funnel.csv', 'r', newline='') as funnel:\n",
    "    for line in funnel:\n",
    "        print(line)\n",
    "        i += 1\n",
    "        if i > 2:\n",
    "            break"
   ]
  },
  {
   "cell_type": "code",
   "execution_count": null,
   "id": "4049e775-8c46-4cd2-8928-960b900ef2c9",
   "metadata": {},
   "outputs": [],
   "source": []
  }
 ],
 "metadata": {
  "kernelspec": {
   "display_name": "Python 3 (ipykernel)",
   "language": "python",
   "name": "python3"
  },
  "language_info": {
   "codemirror_mode": {
    "name": "ipython",
    "version": 3
   },
   "file_extension": ".py",
   "mimetype": "text/x-python",
   "name": "python",
   "nbconvert_exporter": "python",
   "pygments_lexer": "ipython3",
   "version": "3.9.6"
  }
 },
 "nbformat": 4,
 "nbformat_minor": 5
}
