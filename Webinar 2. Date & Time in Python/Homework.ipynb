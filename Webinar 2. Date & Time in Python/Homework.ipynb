{
 "cells": [
  {
   "cell_type": "markdown",
   "id": "b45f7c9a-5dad-4386-8b84-4b1e7687a6eb",
   "metadata": {},
   "source": [
    "**Задание 1**\n",
    "Печатные газеты использовали свой формат дат для каждого выпуска. Для каждой\n",
    "газеты из списка напишите формат указанной даты для перевода в объект datetime:\n",
    "\n",
    "The Moscow Times - Wednesday, October 2, 2002<br>\n",
    "The Guardian - Friday, 11.10.13<br>\n",
    "Daily News - Thursday, 18 August 1977<br>\n",
    "\n",
    "Пример работы программы<br>\n",
    "Программа должна выводить на экран объекты типа datetime, соответствующие датам\n",
    "в условии задачи"
   ]
  },
  {
   "cell_type": "code",
   "execution_count": 9,
   "id": "7145748c-a4fb-42aa-84dc-0dbbb432f8ad",
   "metadata": {},
   "outputs": [
    {
     "name": "stdout",
     "output_type": "stream",
     "text": [
      "The Moscow Times- 2002-10-02 00:00:00\n",
      "The Guardian- 2013-10-11 00:00:00\n",
      "Daily News- 1977-08-18 00:00:00\n"
     ]
    }
   ],
   "source": [
    "from datetime import datetime\n",
    "\n",
    "formats = {\n",
    "    \"The Moscow Times\": \"%A, %B %d, %Y\",\n",
    "    \"The Guardian\": \"%A, %d.%m.%y\",\n",
    "    \"Daily News\": \"%A, %d %B %Y\"\n",
    "}\n",
    "\n",
    "# Даты:\n",
    "dates = {\n",
    "    \"The Moscow Times\": \"Wednesday, October 2, 2002\",\n",
    "    \"The Guardian\": \"Friday, 11.10.13\",\n",
    "    \"Daily News\": \"Thursday, 18 August 1977\"\n",
    "}\n",
    "\n",
    "# Переводим в datetime\n",
    "for newspaper, date_str in dates.items():\n",
    "    date_format = formats[newspaper]\n",
    "    date_object = datetime.strptime(date_str, date_format)\n",
    "    print(f\"{newspaper}- {date_object}\")"
   ]
  }
 ],
 "metadata": {
  "kernelspec": {
   "display_name": "Python 3 (ipykernel)",
   "language": "python",
   "name": "python3"
  },
  "language_info": {
   "codemirror_mode": {
    "name": "ipython",
    "version": 3
   },
   "file_extension": ".py",
   "mimetype": "text/x-python",
   "name": "python",
   "nbconvert_exporter": "python",
   "pygments_lexer": "ipython3",
   "version": "3.9.6"
  }
 },
 "nbformat": 4,
 "nbformat_minor": 5
}
